{
 "cells": [
  {
   "cell_type": "markdown",
   "metadata": {},
   "source": [
    "# 15.095 Homework 2  -  October 10, 2018\n",
    "### Kim-Anh-Nhi Nguyen  -  MIT ID: 913785552"
   ]
  },
  {
   "cell_type": "markdown",
   "metadata": {},
   "source": [
    "## 1. Algorithmic Framework for Linear Regression"
   ]
  },
  {
   "cell_type": "markdown",
   "metadata": {},
   "source": [
    "### a. Read the data sets and separate into training, validation and testing sets (50%, 25% and 25% respectively)"
   ]
  },
  {
   "cell_type": "code",
   "execution_count": 1,
   "metadata": {},
   "outputs": [],
   "source": [
    "using JuMP, Gurobi, DataFrames"
   ]
  },
  {
   "cell_type": "code",
   "execution_count": 2,
   "metadata": {},
   "outputs": [
    {
     "name": "stderr",
     "output_type": "stream",
     "text": [
      "\u001b[1m\u001b[33mWARNING: \u001b[39m\u001b[22m\u001b[33mreadtable is deprecated, use CSV.read from the CSV package instead\u001b[39m\n",
      "Stacktrace:\n",
      " [1] \u001b[1mdepwarn\u001b[22m\u001b[22m\u001b[1m(\u001b[22m\u001b[22m::String, ::Symbol\u001b[1m)\u001b[22m\u001b[22m at \u001b[1m.\\deprecated.jl:70\u001b[22m\u001b[22m\n",
      " [2] \u001b[1m#readtable#232\u001b[22m\u001b[22m\u001b[1m(\u001b[22m\u001b[22m::Bool, ::Char, ::Array{Char,1}, ::Char, ::Array{String,1}, ::Array{String,1}, ::Array{String,1}, ::Bool, ::Int64, ::Array{Symbol,1}, ::Array{Any,1}, ::Bool, ::Char, ::Bool, ::Int64, ::Array{Int64,1}, ::Bool, ::Symbol, ::Bool, ::Bool, ::DataFrames.#readtable, ::String\u001b[1m)\u001b[22m\u001b[22m at \u001b[1mC:\\Users\\utilisateur\\.julia\\v0.6\\DataFrames\\src\\deprecated.jl:1045\u001b[22m\u001b[22m\n",
      " [3] \u001b[1m(::DataFrames.#kw##readtable)\u001b[22m\u001b[22m\u001b[1m(\u001b[22m\u001b[22m::Array{Any,1}, ::DataFrames.#readtable, ::String\u001b[1m)\u001b[22m\u001b[22m at \u001b[1m.\\<missing>:0\u001b[22m\u001b[22m\n",
      " [4] \u001b[1minclude_string\u001b[22m\u001b[22m\u001b[1m(\u001b[22m\u001b[22m::String, ::String\u001b[1m)\u001b[22m\u001b[22m at \u001b[1m.\\loading.jl:522\u001b[22m\u001b[22m\n",
      " [5] \u001b[1minclude_string\u001b[22m\u001b[22m\u001b[1m(\u001b[22m\u001b[22m::Module, ::String, ::String\u001b[1m)\u001b[22m\u001b[22m at \u001b[1mC:\\Users\\utilisateur\\.julia\\v0.6\\Compat\\src\\Compat.jl:88\u001b[22m\u001b[22m\n",
      " [6] \u001b[1mexecute_request\u001b[22m\u001b[22m\u001b[1m(\u001b[22m\u001b[22m::ZMQ.Socket, ::IJulia.Msg\u001b[1m)\u001b[22m\u001b[22m at \u001b[1mC:\\Users\\utilisateur\\.julia\\v0.6\\IJulia\\src\\execute_request.jl:180\u001b[22m\u001b[22m\n",
      " [7] \u001b[1m(::Compat.#inner#14{Array{Any,1},IJulia.#execute_request,Tuple{ZMQ.Socket,IJulia.Msg}})\u001b[22m\u001b[22m\u001b[1m(\u001b[22m\u001b[22m\u001b[1m)\u001b[22m\u001b[22m at \u001b[1mC:\\Users\\utilisateur\\.julia\\v0.6\\Compat\\src\\Compat.jl:332\u001b[22m\u001b[22m\n",
      " [8] \u001b[1meventloop\u001b[22m\u001b[22m\u001b[1m(\u001b[22m\u001b[22m::ZMQ.Socket\u001b[1m)\u001b[22m\u001b[22m at \u001b[1mC:\\Users\\utilisateur\\.julia\\v0.6\\IJulia\\src\\eventloop.jl:8\u001b[22m\u001b[22m\n",
      " [9] \u001b[1m(::IJulia.##15#18)\u001b[22m\u001b[22m\u001b[1m(\u001b[22m\u001b[22m\u001b[1m)\u001b[22m\u001b[22m at \u001b[1m.\\task.jl:335\u001b[22m\u001b[22m\n",
      "while loading In[2], in expression starting on line 1\n",
      "\u001b[1m\u001b[33mWARNING: \u001b[39m\u001b[22m\u001b[33mreadtable is deprecated, use CSV.read from the CSV package instead\u001b[39m\n",
      "Stacktrace:\n",
      " [1] \u001b[1mdepwarn\u001b[22m\u001b[22m\u001b[1m(\u001b[22m\u001b[22m::String, ::Symbol\u001b[1m)\u001b[22m\u001b[22m at \u001b[1m.\\deprecated.jl:70\u001b[22m\u001b[22m\n",
      " [2] \u001b[1m#readtable#232\u001b[22m\u001b[22m\u001b[1m(\u001b[22m\u001b[22m::Bool, ::Char, ::Array{Char,1}, ::Char, ::Array{String,1}, ::Array{String,1}, ::Array{String,1}, ::Bool, ::Int64, ::Array{Symbol,1}, ::Array{Any,1}, ::Bool, ::Char, ::Bool, ::Int64, ::Array{Int64,1}, ::Bool, ::Symbol, ::Bool, ::Bool, ::DataFrames.#readtable, ::String\u001b[1m)\u001b[22m\u001b[22m at \u001b[1mC:\\Users\\utilisateur\\.julia\\v0.6\\DataFrames\\src\\deprecated.jl:1045\u001b[22m\u001b[22m\n",
      " [3] \u001b[1m(::DataFrames.#kw##readtable)\u001b[22m\u001b[22m\u001b[1m(\u001b[22m\u001b[22m::Array{Any,1}, ::DataFrames.#readtable, ::String\u001b[1m)\u001b[22m\u001b[22m at \u001b[1m.\\<missing>:0\u001b[22m\u001b[22m\n",
      " [4] \u001b[1minclude_string\u001b[22m\u001b[22m\u001b[1m(\u001b[22m\u001b[22m::String, ::String\u001b[1m)\u001b[22m\u001b[22m at \u001b[1m.\\loading.jl:522\u001b[22m\u001b[22m\n",
      " [5] \u001b[1minclude_string\u001b[22m\u001b[22m\u001b[1m(\u001b[22m\u001b[22m::Module, ::String, ::String\u001b[1m)\u001b[22m\u001b[22m at \u001b[1mC:\\Users\\utilisateur\\.julia\\v0.6\\Compat\\src\\Compat.jl:88\u001b[22m\u001b[22m\n",
      " [6] \u001b[1mexecute_request\u001b[22m\u001b[22m\u001b[1m(\u001b[22m\u001b[22m::ZMQ.Socket, ::IJulia.Msg\u001b[1m)\u001b[22m\u001b[22m at \u001b[1mC:\\Users\\utilisateur\\.julia\\v0.6\\IJulia\\src\\execute_request.jl:180\u001b[22m\u001b[22m\n",
      " [7] \u001b[1m(::Compat.#inner#14{Array{Any,1},IJulia.#execute_request,Tuple{ZMQ.Socket,IJulia.Msg}})\u001b[22m\u001b[22m\u001b[1m(\u001b[22m\u001b[22m\u001b[1m)\u001b[22m\u001b[22m at \u001b[1mC:\\Users\\utilisateur\\.julia\\v0.6\\Compat\\src\\Compat.jl:332\u001b[22m\u001b[22m\n",
      " [8] \u001b[1meventloop\u001b[22m\u001b[22m\u001b[1m(\u001b[22m\u001b[22m::ZMQ.Socket\u001b[1m)\u001b[22m\u001b[22m at \u001b[1mC:\\Users\\utilisateur\\.julia\\v0.6\\IJulia\\src\\eventloop.jl:8\u001b[22m\u001b[22m\n",
      " [9] \u001b[1m(::IJulia.##15#18)\u001b[22m\u001b[22m\u001b[1m(\u001b[22m\u001b[22m\u001b[1m)\u001b[22m\u001b[22m at \u001b[1m.\\task.jl:335\u001b[22m\u001b[22m\n",
      "while loading In[2], in expression starting on line 2\n"
     ]
    }
   ],
   "source": [
    "df1 = readtable(\"data1.csv\", header=true);\n",
    "df2 = readtable(\"data2.csv\", header=true);"
   ]
  },
  {
   "cell_type": "code",
   "execution_count": 3,
   "metadata": {},
   "outputs": [],
   "source": [
    "function separate_dataset(dataset)\n",
    "    show=true\n",
    "\n",
    "    X, y = Matrix(dataset[:,1:end-1]), dataset[:,end]\n",
    "    \n",
    "    # Split into training, validation and test sets (50%/25%/25%)\n",
    "    n,p = size(X)\n",
    "    val_start, test_start = round(Int, 0.50 * n), round(Int, 0.75 * n)\n",
    "    \n",
    "    X_train, y_train = X[1:val_start - 1, :], y[1:val_start - 1]\n",
    "    X_val, y_val = X[val_start:test_start - 1, :], y[val_start:test_start - 1]\n",
    "    X_test, y_test= X[test_start:end, :], y[test_start:end]\n",
    "    \n",
    "    if show==true\n",
    "        #See the size of training, validation and testing sets\n",
    "        println(\"\\nSize of training set:\",size(X_train),size(y_train))\n",
    "        println(\"Size of validation set:\",size(X_val),size(y_val))\n",
    "        println(\"Size of test set:\",size(X_test),size(y_test))\n",
    "    end\n",
    "    \n",
    "    return(X_train,y_train, X_val, y_val, X_test, y_test)\n",
    "end;"
   ]
  },
  {
   "cell_type": "markdown",
   "metadata": {},
   "source": [
    "### Apply nonlinear transformations"
   ]
  },
  {
   "cell_type": "code",
   "execution_count": 23,
   "metadata": {},
   "outputs": [],
   "source": [
    "transforms = [x -> x, x -> x.^2, x -> sqrt.(x), x -> log.(x)]\n",
    "function transformations(X_train, X_val, X_test)\n",
    "    show=true\n",
    "    p_orig = size(X_train,2)\n",
    "    apply_transforms(X) = hcat([transforms[i](X) for i = 1:length(transforms)]...)\n",
    "    p2 = p_orig * length(transforms)\n",
    "    X_train2 = apply_transforms(X_train)\n",
    "    X_val2 = apply_transforms(X_val)\n",
    "    X_test2 = apply_transforms(X_test)\n",
    "    \n",
    "    if show==true\n",
    "        #See the size of training, validation and testing sets\n",
    "        println(\"\\nNew size of training set:\",size(X_train2))\n",
    "        println(\"New size of validation set:\",size(X_val2))\n",
    "        println(\"New size of test set:\",size(X_test2))\n",
    "    end\n",
    "    \n",
    "    return(p_orig, X_train2, X_val2, X_test2)\n",
    "end;   "
   ]
  },
  {
   "cell_type": "code",
   "execution_count": 24,
   "metadata": {},
   "outputs": [
    {
     "name": "stdout",
     "output_type": "stream",
     "text": [
      "\n",
      "Size of training set:(124, 15)(124,)\n",
      "Size of validation set:(63, 15)(63,)\n",
      "Size of test set:(63, 15)(63,)\n",
      "\n",
      "New size of training set:(124, 60)\n",
      "New size of validation set:(63, 60)\n",
      "New size of test set:(63, 60)\n",
      "\n",
      "Size of training set:(249, 7)(249,)\n",
      "Size of validation set:(125, 7)(125,)\n",
      "Size of test set:(126, 7)(126,)\n",
      "\n",
      "New size of training set:(249, 28)\n",
      "New size of validation set:(125, 28)\n",
      "New size of test set:(126, 28)\n"
     ]
    }
   ],
   "source": [
    "X_train1,y_train1, X_val1, y_val1, X_test1, y_test1 = separate_dataset(df1)\n",
    "p_orig1, X_train1, X_val1, X_test1 = transformations(X_train1, X_val1, X_test1)\n",
    "\n",
    "X_train2,y_train2, X_val2, y_val2, X_test2, y_test2 = separate_dataset(df2)\n",
    "p_orig2, X_train2, X_val2, X_test2 = transformations(X_train2, X_val2, X_test2);"
   ]
  },
  {
   "cell_type": "markdown",
   "metadata": {},
   "source": [
    "### Compute the correlations"
   ]
  },
  {
   "cell_type": "code",
   "execution_count": 7,
   "metadata": {},
   "outputs": [],
   "source": [
    "function sorted_correlations(cor_matrix)\n",
    "    c = copy(abs.(cor_matrix))\n",
    "    p = length(cor_matrix[1,:])\n",
    "    num_pairs = convert(Int64,p*(p-1)/2)\n",
    "    pair_list = zeros(Int64, num_pairs, 2)\n",
    "    magnitude = zeros(num_pairs)\n",
    "\n",
    "    # Set lower triangular correlation values = 0\n",
    "    for i=1:p\n",
    "        for j=1:i\n",
    "            c[i,j] = 0\n",
    "        end\n",
    "    end\n",
    "\n",
    "    for i=1:num_pairs\n",
    "        ind = indmax(c)\n",
    "        col = floor(ind/p) + 1\n",
    "        row = ind % p\n",
    "        magnitude[i] = c[ind]\n",
    "        pair_list[i,1] = row\n",
    "        pair_list[i,2] = col\n",
    "        c[ind] = 0\n",
    "    end\n",
    "\n",
    "    return(pair_list, magnitude)\n",
    "end;"
   ]
  },
  {
   "cell_type": "code",
   "execution_count": 8,
   "metadata": {},
   "outputs": [],
   "source": [
    "function cor_matrix(p_orig, X_train)\n",
    "    # Find the correlation matrix of the independent variables of the training data\n",
    "    cor_matrix = cor(X_train[:,1:p_orig])\n",
    "    pair_list, magnitude = sorted_correlations(cor_matrix)\n",
    "    num_pairs = length(magnitude)\n",
    "    return (pair_list, magnitude, num_pairs)\n",
    "end;"
   ]
  },
  {
   "cell_type": "code",
   "execution_count": 9,
   "metadata": {},
   "outputs": [],
   "source": [
    "pair_list1, magnitude1, num_pairs1 = cor_matrix(p_orig1, X_train1)\n",
    "pair_list2, magnitude2, num_pairs2 = cor_matrix(p_orig2, X_train2);"
   ]
  },
  {
   "cell_type": "markdown",
   "metadata": {},
   "source": [
    "### Build the MIO model"
   ]
  },
  {
   "cell_type": "code",
   "execution_count": 10,
   "metadata": {},
   "outputs": [],
   "source": [
    "function linear_regression_framework(p_orig,\n",
    "                                    X_train,\n",
    "                                    y_train,\n",
    "                                    pair_list, magnitude, num_pairs,\n",
    "                                    K, # sparsity parameter\n",
    "                                    Γ ,# robustness parameter (type \"\\Gamma\" then hit tab to get the Γ symbol)\n",
    "                                    ρ # pairwise multicollinearity threshold (type \"\\rho\" then hit tab to get the ρ symbol)\n",
    "                                    )\n",
    "    n, p = size(X_train)\n",
    "    Big_M = fill(1000, p)\n",
    "    group_sparsity = true\n",
    "    groups = ([1 2 3 4], [5 6 7], [8 9 10 11])\n",
    "    num_opt = length(transforms)\n",
    "    print_model = false\n",
    "    OutputFlag = 0\n",
    "    robustness = true\n",
    "\n",
    "    m = Model(solver = GurobiSolver(OutputFlag=OutputFlag))\n",
    "\n",
    "    @variable(m, β[1:p]); # (type \"\\beta\" then hit tab to get the β symbol)\n",
    "    @variable(m, z[1:p], Bin);\n",
    "\n",
    "    # Big M constraints\n",
    "    @constraint(m, m_gt[d=1:p], β[d] <= Big_M[d] * z[d]);\n",
    "    @constraint(m, m_lt[d=1:p], -Big_M[d] * z[d] <= β[d]);\n",
    "\n",
    "\n",
    "\n",
    "    # Pairwise multicolinearity constraint\n",
    "    for i=1:num_pairs\n",
    "      if magnitude[i] > ρ\n",
    "        ind1 = pair_list[i,1]\n",
    "        ind2 = pair_list[i,2]\n",
    "        @constraint(m, z[ind1] + z[ind2] + z[ind1 + p_orig] + z[ind2 + p_orig]\n",
    "                + z[ind1 + 2p_orig] + z[ind2 + 2p_orig] + z[ind1 + 3p_orig] + z[ind2 + 3p_orig] <= 1)\n",
    "      else\n",
    "        break\n",
    "      end\n",
    "    end\n",
    "\n",
    "    # Group sparsity constraint\n",
    "    if group_sparsity\n",
    "      @constraint(m, g_sparsity[i=1:length(groups),j=2:length(groups[i])], z[groups[i][1]] == z[groups[i][j]])\n",
    "    end\n",
    "\n",
    "    # Single choice of nonlinear transformation constraint\n",
    "    if num_opt > 1\n",
    "      @constraint(m, non_linear[j=1:p_orig], sum(z[j + t*p_orig] for t = 0:(num_opt-1)) <= 1)\n",
    "    end\n",
    "\n",
    "    # Sparsity constraint\n",
    "    @constraint(m, sparsity, sum(z[d] for d = 1:p) <= K)\n",
    "\n",
    "\n",
    "    # Objective function\n",
    "    a = 0\n",
    "    for i = 1:n\n",
    "      a += 0.5(y_train[i] - dot(β, vec(X_train[i,:])))^2\n",
    "    end\n",
    "    # @variable(m, t >= 0)\n",
    "    @variable(m, θ >= 0)\n",
    "    # @constraint(m, norm(y_train - X_train * β) <= t)\n",
    "    @objective(m, Min, a + Γ * θ)\n",
    "\n",
    "    # Robustness\n",
    "    if robustness\n",
    "      @variable(m, β_0[1:p] >= 0)\n",
    "      @constraint(m, beta_pos[j=1:p], β_0[j] >= β[j])\n",
    "      @constraint(m, beta_neg[j=1:p], β_0[j] >= -β[j])\n",
    "      @constraint(m, sum(β_0) <= θ)\n",
    "    end\n",
    "\n",
    "    if print_model\n",
    "      print(m)\n",
    "    end\n",
    "    \n",
    "    return(m, z, β)\n",
    "    \n",
    "end;"
   ]
  },
  {
   "cell_type": "code",
   "execution_count": 11,
   "metadata": {},
   "outputs": [],
   "source": [
    "function get_K_values(β_soln, K)\n",
    "    β_soln_indices = convert(Array{Int64,1}, zeros(K)) \n",
    "    β_soln_max = zeros(K)\n",
    "    temp = copy(abs.(β_soln))\n",
    "    for i in 1:K\n",
    "        max = findmax(temp)\n",
    "        β_soln_indices[i]= max[2]\n",
    "        if β_soln[max[2]]>= 0\n",
    "            β_soln_max[i] = max[1]\n",
    "        else\n",
    "            β_soln_max[i] = -max[1]\n",
    "        end\n",
    "        \n",
    "        temp[β_soln_indices[i]] = 0\n",
    "    end\n",
    "    β_soln_real = zeros(length(β_soln))\n",
    "    for i in 1:K\n",
    "        β_soln_real[β_soln_indices[i]] = β_soln_max[i]\n",
    "    end\n",
    "\n",
    "    return(β_soln_real)\n",
    "end;"
   ]
  },
  {
   "cell_type": "code",
   "execution_count": 12,
   "metadata": {},
   "outputs": [],
   "source": [
    "function solve_regression(m, z, β, K, print_result)\n",
    "    status = solve(m)\n",
    "    z_soln1 = getvalue(z)\n",
    "    β_soln1 = getvalue(β)\n",
    "    z_soln = get_K_values(z_soln1, K)\n",
    "    β_soln = get_K_values(β_soln1, K)\n",
    "    if print_result\n",
    "        println(\"Status = \", status)\n",
    "        println(\"Selected variables = \", find(z_soln))\n",
    "        println(\"Regression Equation:\")\n",
    "        println(\"y = \", join([\"$(round(β_soln[i],3)) x[$i]\" for i in find(z_soln)], \" + \"))\n",
    "    end\n",
    "    \n",
    "    return (β_soln, z_soln)\n",
    "end;"
   ]
  },
  {
   "cell_type": "code",
   "execution_count": 13,
   "metadata": {},
   "outputs": [],
   "source": [
    "function find_best_hyperparameters(p_orig, X_train, X_val, y_train, y_val, \n",
    "                                    pair_list, magnitude, num_pairs,\n",
    "                                    k_interval, k_step)\n",
    "    p = size(X_train, 2)\n",
    "    ρ = 0.9\n",
    "    \n",
    "    Γ_list = [0.001, 0.01, 0.1, 1, 2]\n",
    "    k_list = [k_step*i for i in (k_interval[1]/k_step):(k_interval[2]/k_step)]\n",
    "    k_list = convert(Array{Int64,1}, k_list)\n",
    "    println(\"k_list: \", k_list)\n",
    "    \n",
    "    a = length(Γ_list)*length(k_list)\n",
    "    #instantiate arrays\n",
    "    scores = zeros(a)\n",
    "    \n",
    "    for i in 1:length(Γ_list)\n",
    "        for j in 1:length(k_list)\n",
    "            # training on train sets for both regression methods\n",
    "            m, z1, β1 = linear_regression_framework(p_orig, X_train, y_train, pair_list, magnitude, num_pairs,\n",
    "                                                    k_list[j], Γ_list[i], ρ);\n",
    "            β, z = solve_regression(m, z1, β1, k_list[j], false)\n",
    "            \n",
    "            # performance metrics on validation sets for both regression methods\n",
    "            scores[length(k_list)*(i-1) + j] = norm(y_val - X_val * β)\n",
    "        end        \n",
    "    end\n",
    "    Argmin = indmin(scores)\n",
    "    println(scores)\n",
    "    Γ_argmin, k_argmin = Argmin÷length(k_list)+1, Argmin%length(k_list)\n",
    "    if k_argmin == 0\n",
    "        k_argmin=length(k_list)\n",
    "    end\n",
    "    \n",
    "    return Γ_list[Γ_argmin], k_list[k_argmin]\n",
    "end;"
   ]
  },
  {
   "cell_type": "code",
   "execution_count": 14,
   "metadata": {},
   "outputs": [
    {
     "name": "stdout",
     "output_type": "stream",
     "text": [
      "k_list: [1, 2, 3, 4, 5, 6, 7, 8, 9, 10]\n",
      "Academic license - for non-commercial use only\n",
      "Academic license - for non-commercial use only\n",
      "Academic license - for non-commercial use only\n",
      "Academic license - for non-commercial use only\n",
      "Academic license - for non-commercial use only\n",
      "Academic license - for non-commercial use only\n",
      "Academic license - for non-commercial use only\n",
      "Academic license - for non-commercial use only\n",
      "Academic license - for non-commercial use only\n",
      "Academic license - for non-commercial use only\n",
      "Academic license - for non-commercial use only\n",
      "Academic license - for non-commercial use only\n",
      "Academic license - for non-commercial use only\n",
      "Academic license - for non-commercial use only\n",
      "Academic license - for non-commercial use only\n",
      "Academic license - for non-commercial use only\n",
      "Academic license - for non-commercial use only\n",
      "Academic license - for non-commercial use only\n",
      "Academic license - for non-commercial use only\n",
      "Academic license - for non-commercial use only\n",
      "Academic license - for non-commercial use only\n",
      "Academic license - for non-commercial use only\n",
      "Academic license - for non-commercial use only\n",
      "Academic license - for non-commercial use only\n",
      "Academic license - for non-commercial use only\n",
      "Academic license - for non-commercial use only\n",
      "Academic license - for non-commercial use only\n",
      "Academic license - for non-commercial use only\n",
      "Academic license - for non-commercial use only\n",
      "Academic license - for non-commercial use only\n",
      "Academic license - for non-commercial use only\n",
      "Academic license - for non-commercial use only\n",
      "Academic license - for non-commercial use only\n",
      "Academic license - for non-commercial use only\n",
      "Academic license - for non-commercial use only\n",
      "Academic license - for non-commercial use only\n",
      "Academic license - for non-commercial use only\n",
      "Academic license - for non-commercial use only\n",
      "Academic license - for non-commercial use only\n",
      "Academic license - for non-commercial use only\n",
      "Academic license - for non-commercial use only\n",
      "Academic license - for non-commercial use only\n",
      "Academic license - for non-commercial use only\n",
      "Academic license - for non-commercial use only\n",
      "Academic license - for non-commercial use only\n",
      "Academic license - for non-commercial use only\n",
      "Academic license - for non-commercial use only\n",
      "Academic license - for non-commercial use only\n",
      "Academic license - for non-commercial use only\n",
      "Academic license - for non-commercial use only\n",
      "[1.28336, 1.0752, 0.833122, 0.863674, 0.846349, 0.889704, 0.901484, 0.902627, 0.88131, 0.94512, 1.28336, 1.07523, 0.843273, 0.838248, 0.845838, 0.858394, 0.874824, 0.875705, 0.853369, 0.928636, 1.28336, 1.10258, 0.844348, 1.39722, 0.846949, 1.4932, 0.920361, 0.900578, 0.898419, 0.904363, 1.28364, 1.14522, 1.10837, 1.16301, 4.74957, 1.16807, 2.39798, 1.42871, 1.12237, 1.14497, 1.28458, 1.22884, 1.13954, 1.29662, 1.45642, 1.43134, 1.39025, 1.39025, 1.44724, 1.31539]\n"
     ]
    }
   ],
   "source": [
    "best_Γ1, best_K_1 = find_best_hyperparameters(p_orig1, X_train1, X_val1, y_train1, y_val1, \n",
    "                                                pair_list1, magnitude1, num_pairs1, [1,10], 1);"
   ]
  },
  {
   "cell_type": "code",
   "execution_count": 15,
   "metadata": {},
   "outputs": [
    {
     "name": "stdout",
     "output_type": "stream",
     "text": [
      "k_list: [1, 2, 3, 4, 5, 6, 7, 8, 9, 10, 11, 12, 13, 14, 15, 16, 17, 18, 19, 20, 21, 22, 23, 24, 25, 26, 27, 28]\n",
      "Academic license - for non-commercial use only\n",
      "Academic license - for non-commercial use only\n",
      "Academic license - for non-commercial use only\n",
      "Academic license - for non-commercial use only\n",
      "Academic license - for non-commercial use only\n",
      "Academic license - for non-commercial use only\n",
      "Academic license - for non-commercial use only\n",
      "Academic license - for non-commercial use only\n",
      "Academic license - for non-commercial use only\n",
      "Academic license - for non-commercial use only\n",
      "Academic license - for non-commercial use only\n",
      "Academic license - for non-commercial use only\n",
      "Academic license - for non-commercial use only\n",
      "Academic license - for non-commercial use only\n",
      "Academic license - for non-commercial use only\n",
      "Academic license - for non-commercial use only\n",
      "Academic license - for non-commercial use only\n",
      "Academic license - for non-commercial use only\n",
      "Academic license - for non-commercial use only\n",
      "Academic license - for non-commercial use only\n",
      "Academic license - for non-commercial use only\n",
      "Academic license - for non-commercial use only\n",
      "Academic license - for non-commercial use only\n",
      "Academic license - for non-commercial use only\n",
      "Academic license - for non-commercial use only\n",
      "Academic license - for non-commercial use only\n",
      "Academic license - for non-commercial use only\n",
      "Academic license - for non-commercial use only\n",
      "Academic license - for non-commercial use only\n",
      "Academic license - for non-commercial use only\n",
      "Academic license - for non-commercial use only\n",
      "Academic license - for non-commercial use only\n",
      "Academic license - for non-commercial use only\n",
      "Academic license - for non-commercial use only\n",
      "Academic license - for non-commercial use only\n",
      "Academic license - for non-commercial use only\n",
      "Academic license - for non-commercial use only\n",
      "Academic license - for non-commercial use only\n",
      "Academic license - for non-commercial use only\n",
      "Academic license - for non-commercial use only\n",
      "Academic license - for non-commercial use only\n",
      "Academic license - for non-commercial use only\n",
      "Academic license - for non-commercial use only\n",
      "Academic license - for non-commercial use only\n",
      "Academic license - for non-commercial use only\n",
      "Academic license - for non-commercial use only\n",
      "Academic license - for non-commercial use only\n",
      "Academic license - for non-commercial use only\n",
      "Academic license - for non-commercial use only\n",
      "Academic license - for non-commercial use only\n",
      "Academic license - for non-commercial use only\n",
      "Academic license - for non-commercial use only\n",
      "Academic license - for non-commercial use only\n",
      "Academic license - for non-commercial use only\n",
      "Academic license - for non-commercial use only\n",
      "Academic license - for non-commercial use only\n",
      "Academic license - for non-commercial use only\n",
      "Academic license - for non-commercial use only\n",
      "Academic license - for non-commercial use only\n",
      "Academic license - for non-commercial use only\n",
      "Academic license - for non-commercial use only\n",
      "Academic license - for non-commercial use only\n",
      "Academic license - for non-commercial use only\n",
      "Academic license - for non-commercial use only\n",
      "Academic license - for non-commercial use only\n",
      "Academic license - for non-commercial use only\n",
      "Academic license - for non-commercial use only\n",
      "Academic license - for non-commercial use only\n",
      "Academic license - for non-commercial use only\n",
      "Academic license - for non-commercial use only\n",
      "Academic license - for non-commercial use only\n",
      "Academic license - for non-commercial use only\n",
      "Academic license - for non-commercial use only\n",
      "Academic license - for non-commercial use only\n",
      "Academic license - for non-commercial use only\n",
      "Academic license - for non-commercial use only\n",
      "Academic license - for non-commercial use only\n",
      "Academic license - for non-commercial use only\n",
      "Academic license - for non-commercial use only\n",
      "Academic license - for non-commercial use only\n",
      "Academic license - for non-commercial use only\n",
      "Academic license - for non-commercial use only\n",
      "Academic license - for non-commercial use only\n",
      "Academic license - for non-commercial use only\n",
      "Academic license - for non-commercial use only\n",
      "Academic license - for non-commercial use only\n",
      "Academic license - for non-commercial use only\n",
      "Academic license - for non-commercial use only\n",
      "Academic license - for non-commercial use only\n",
      "Academic license - for non-commercial use only\n",
      "Academic license - for non-commercial use only\n",
      "Academic license - for non-commercial use only\n",
      "Academic license - for non-commercial use only\n",
      "Academic license - for non-commercial use only\n",
      "Academic license - for non-commercial use only\n",
      "Academic license - for non-commercial use only\n",
      "Academic license - for non-commercial use only\n",
      "Academic license - for non-commercial use only\n",
      "Academic license - for non-commercial use only\n",
      "Academic license - for non-commercial use only\n",
      "Academic license - for non-commercial use only\n",
      "Academic license - for non-commercial use only\n",
      "Academic license - for non-commercial use only\n",
      "Academic license - for non-commercial use only\n",
      "Academic license - for non-commercial use only\n",
      "Academic license - for non-commercial use only\n",
      "Academic license - for non-commercial use only\n",
      "Academic license - for non-commercial use only\n",
      "Academic license - for non-commercial use only\n",
      "Academic license - for non-commercial use only\n",
      "Academic license - for non-commercial use only\n",
      "Academic license - for non-commercial use only\n",
      "Academic license - for non-commercial use only\n",
      "Academic license - for non-commercial use only\n",
      "Academic license - for non-commercial use only\n",
      "Academic license - for non-commercial use only\n",
      "Academic license - for non-commercial use only\n",
      "Academic license - for non-commercial use only\n",
      "Academic license - for non-commercial use only\n",
      "Academic license - for non-commercial use only\n",
      "Academic license - for non-commercial use only\n",
      "Academic license - for non-commercial use only\n",
      "Academic license - for non-commercial use only\n",
      "Academic license - for non-commercial use only\n",
      "Academic license - for non-commercial use only\n",
      "Academic license - for non-commercial use only\n",
      "Academic license - for non-commercial use only\n",
      "Academic license - for non-commercial use only\n",
      "Academic license - for non-commercial use only\n",
      "Academic license - for non-commercial use only\n",
      "Academic license - for non-commercial use only\n",
      "Academic license - for non-commercial use only\n",
      "Academic license - for non-commercial use only\n",
      "Academic license - for non-commercial use only\n",
      "Academic license - for non-commercial use only\n",
      "Academic license - for non-commercial use only\n",
      "Academic license - for non-commercial use only\n",
      "Academic license - for non-commercial use only\n",
      "Academic license - for non-commercial use only\n",
      "Academic license - for non-commercial use only\n",
      "[3.73087, 2.45258, 1.73217, 1.61041, 1.30786, 42.4015, 1.44099, 1.44099, 42.2266, 42.2266, 42.2266, 42.2266, 42.2266, 42.2266, 42.2266, 42.2266, 42.2266, 42.2266, 42.2266, 42.2266, 42.2266, 42.2266, 42.2266, 42.2266, 42.2266, 42.2266, 42.2266, 42.2266, 3.72754, 2.45261, 1.73224, 1.61045, 1.44253, 1.30529, 1.29591, 1.30896, 42.0485, 42.0485, 42.0485, 42.0485, 42.0485, 42.0485, 42.0485, 42.0485, 42.0485, 42.0485, 42.0485, 42.0485, 42.0485, 42.0485, 42.0485, 42.0485, 42.0485, 42.0485, 42.0485, 42.0485, 3.75331, 2.4529, 1.73291, 1.64038, 1.30785, 1.29696, 42.045, 42.045, 42.0779, 42.0779, 42.0779, 42.0779, 42.0779, 42.0779, 42.0779, 42.0779, 42.0779, 42.0779, 42.0779, 42.0779, 42.0779, 42.0779, 42.0779, 42.0779, 42.0779, 42.0779, 42.0779, 42.0779, 4.26063, 2.45601, 1.73995, 1.79356, 1.30873, 42.3899, 1.30298, 42.1181, 42.3899, 42.3899, 42.3899, 42.3899, 42.3899, 42.3899, 42.3899, 42.3899, 42.3899, 42.3899, 42.3899, 42.3899, 42.3899, 42.3899, 42.3899, 42.3899, 42.3899, 42.3899, 42.3899, 42.3899, 3.73113, 2.46002, 2.24173, 2.482, 1.31176, 42.3783, 42.3783, 42.3783, 42.3783, 42.3783, 42.3783, 42.3783, 42.3783, 42.3783, 42.3783, 42.3783, 42.3783, 42.3783, 42.3783, 42.3783, 42.3783, 42.3783, 42.3783, 42.3783, 42.3783, 42.3783, 42.3783, 42.3783]\n"
     ]
    }
   ],
   "source": [
    "best_Γ2, best_K_2 = find_best_hyperparameters(p_orig2, X_train2, X_val2, y_train2, y_val2, \n",
    "                                                pair_list2, magnitude2, num_pairs2, [1,28], 1);"
   ]
  },
  {
   "cell_type": "code",
   "execution_count": 16,
   "metadata": {},
   "outputs": [
    {
     "name": "stdout",
     "output_type": "stream",
     "text": [
      "\n",
      "Best Γ for dataset1: 0.001\n",
      "Best K for dataset1: 3\n",
      "\n",
      "Best Γ for dataset2: 0.01\n",
      "Best K for dataset2: 7\n"
     ]
    }
   ],
   "source": [
    "println(\"\\nBest Γ for dataset1: \", best_Γ1, \"\\nBest K for dataset1: \", best_K_1)\n",
    "println(\"\\nBest Γ for dataset2: \", best_Γ2, \"\\nBest K for dataset2: \", best_K_2);"
   ]
  },
  {
   "cell_type": "code",
   "execution_count": 17,
   "metadata": {},
   "outputs": [],
   "source": [
    "# retrain the whole model with training and validation sets together\n",
    "function retrain_linear(p_orig, X_train, y_train, X_val, y_val, pair_list, magnitude, num_pairs, K, Γ, ρ)\n",
    "    X_train_new = vcat(X_train, X_val)\n",
    "    y_train_new = vcat(y_train, y_val)\n",
    "    \n",
    "    m, z1, β1 = linear_regression_framework(p_orig, X_train_new, y_train_new, pair_list, magnitude, num_pairs,\n",
    "                                                    K, Γ, ρ);\n",
    "    β, z = solve_regression(m, z1, β1, K, true)\n",
    "    return(β, z)\n",
    "end;"
   ]
  },
  {
   "cell_type": "code",
   "execution_count": 18,
   "metadata": {},
   "outputs": [
    {
     "name": "stdout",
     "output_type": "stream",
     "text": [
      "Academic license - for non-commercial use only\r\n",
      "Status = Optimal\n",
      "Selected variables = [19, 27, 56]\n",
      "Regression Equation:\n",
      "y = 0.039 x[19] + 0.027 x[27] + 2.645 x[56]\n"
     ]
    }
   ],
   "source": [
    "β_opt_1, z_opt_1 = retrain_linear(p_orig1, X_train1, y_train1, X_val1, y_val1,  pair_list1, magnitude1, num_pairs1, best_K_1, best_Γ1, 0.9);"
   ]
  },
  {
   "cell_type": "code",
   "execution_count": 19,
   "metadata": {},
   "outputs": [
    {
     "name": "stdout",
     "output_type": "stream",
     "text": [
      "Academic license - for non-commercial use only\r\n",
      "Status = Optimal\n",
      "Selected variables = [16, 18, 19, 22, 24, 27, 28]\n",
      "Regression Equation:\n",
      "y = 1.857 x[16] + -0.445 x[18] + -0.473 x[19] + 3.433 x[22] + 0.132 x[24] + -0.266 x[27] + 0.432 x[28]\n"
     ]
    }
   ],
   "source": [
    "β_opt_2, z_opt_2 = retrain_linear(p_orig2, X_train2, y_train2, X_val2, y_val2, pair_list1, magnitude1, num_pairs1, best_K_2, best_Γ2, 0.9);"
   ]
  },
  {
   "cell_type": "code",
   "execution_count": 20,
   "metadata": {},
   "outputs": [],
   "source": [
    "function out_of_sample(X_train, y_train, X_val, y_val, X_test, y_test, β_soln, K, Γ, ρ)    \n",
    "    # Out of sample testing\n",
    "    y_hat_train = X_train*β_soln\n",
    "    R2_train = 1 - sum((y_hat_train - y_train).^2) / sum((mean(y_train) - y_train).^2)\n",
    "    \n",
    "    y_hat_val = X_val*β_soln\n",
    "    R2_val = 1 - sum((y_hat_val - y_val).^2) / sum((mean(y_train) - y_val).^2)\n",
    "    \n",
    "    y_hat_test = X_test*β_soln\n",
    "    R2_test = 1 - sum((y_hat_test - y_test).^2) / sum((mean(y_train) - y_test).^2)\n",
    "    \n",
    "    z_soln_manual = abs.(β_soln) .> 0.0000001\n",
    "\n",
    "\n",
    "\n",
    "    println(\"***PARAMETERS***\")\n",
    "    println(\"Sparsity parameter K = \", K)\n",
    "    println(\"Pairwise correlation threshold ρ = \", ρ)\n",
    "    println(\"Robustness parameter Γ = \", Γ)\n",
    "    println()\n",
    "    println(\"***RESULTS***\")\n",
    "    println(\"MIO R2 train\\t\", R2_train)\n",
    "    println(\"MIO R2 validation\\t\", R2_val)\n",
    "    println(\"MIO R2 test\\t\", R2_test)\n",
    "end;"
   ]
  },
  {
   "cell_type": "code",
   "execution_count": 21,
   "metadata": {},
   "outputs": [
    {
     "name": "stdout",
     "output_type": "stream",
     "text": [
      "***PARAMETERS***\n",
      "Sparsity parameter K = 3\n",
      "Pairwise correlation threshold ρ = 0.9\n",
      "Robustness parameter Γ = 0.001\n",
      "\n",
      "***RESULTS***\n",
      "MIO R2 train\t0.8432352378395275\n",
      "MIO R2 validation\t0.8127748811895958\n",
      "MIO R2 test\t0.7697463987128148\n"
     ]
    }
   ],
   "source": [
    "out_of_sample(X_train1, y_train1, X_val1, y_val1, X_test1, y_test1, β_opt_1, best_K_1, best_Γ1, 0.9)"
   ]
  },
  {
   "cell_type": "code",
   "execution_count": 22,
   "metadata": {},
   "outputs": [
    {
     "name": "stdout",
     "output_type": "stream",
     "text": [
      "***PARAMETERS***\n",
      "Sparsity parameter K = 7\n",
      "Pairwise correlation threshold ρ = 0.9\n",
      "Robustness parameter Γ = 0.01\n",
      "\n",
      "***RESULTS***\n",
      "MIO R2 train\t0.9219065010999199\n",
      "MIO R2 validation\t0.8982248481520309\n",
      "MIO R2 test\t0.9274666342602617\n"
     ]
    }
   ],
   "source": [
    "out_of_sample(X_train2, y_train2, X_val2, y_val2, X_test2, y_test2, β_opt_2, best_K_2, best_Γ2, 0.9)"
   ]
  },
  {
   "cell_type": "code",
   "execution_count": 30,
   "metadata": {},
   "outputs": [
    {
     "name": "stdout",
     "output_type": "stream",
     "text": [
      "2\n",
      "2\n",
      "\n",
      "4\n",
      "2\n",
      "\n",
      "5\n",
      "2\n",
      "\n",
      "1\n",
      "3\n",
      "\n",
      "3\n",
      "3\n",
      "\n",
      "6\n",
      "3\n",
      "\n",
      "0\n",
      "4\n",
      "\n"
     ]
    }
   ],
   "source": [
    "a = [16, 18, 19, 22, 24, 27, 28]\n",
    "for x in a\n",
    "    println(x%7)\n",
    "    println(x÷7)\n",
    "    println()\n",
    "end"
   ]
  },
  {
   "cell_type": "code",
   "execution_count": 27,
   "metadata": {},
   "outputs": [
    {
     "data": {
      "text/plain": [
       "3"
      ]
     },
     "execution_count": 27,
     "metadata": {},
     "output_type": "execute_result"
    }
   ],
   "source": []
  },
  {
   "cell_type": "code",
   "execution_count": null,
   "metadata": {},
   "outputs": [],
   "source": []
  }
 ],
 "metadata": {
  "kernelspec": {
   "display_name": "Julia 0.6.4",
   "language": "julia",
   "name": "julia-0.6"
  },
  "language_info": {
   "file_extension": ".jl",
   "mimetype": "application/julia",
   "name": "julia",
   "version": "0.6.4"
  }
 },
 "nbformat": 4,
 "nbformat_minor": 2
}
