{
 "cells": [
  {
   "cell_type": "code",
   "execution_count": 1,
   "metadata": {},
   "outputs": [],
   "source": [
    "using JuMP, Gurobi, DataFrames"
   ]
  },
  {
   "cell_type": "code",
   "execution_count": 2,
   "metadata": {},
   "outputs": [
    {
     "name": "stderr",
     "output_type": "stream",
     "text": [
      "\u001b[1m\u001b[33mWARNING: \u001b[39m\u001b[22m\u001b[33mreadtable is deprecated, use CSV.read from the CSV package instead\u001b[39m\n",
      "Stacktrace:\n",
      " [1] \u001b[1mdepwarn\u001b[22m\u001b[22m\u001b[1m(\u001b[22m\u001b[22m::String, ::Symbol\u001b[1m)\u001b[22m\u001b[22m at \u001b[1m.\\deprecated.jl:70\u001b[22m\u001b[22m\n",
      " [2] \u001b[1m#readtable#232\u001b[22m\u001b[22m\u001b[1m(\u001b[22m\u001b[22m::Bool, ::Char, ::Array{Char,1}, ::Char, ::Array{String,1}, ::Array{String,1}, ::Array{String,1}, ::Bool, ::Int64, ::Array{Symbol,1}, ::Array{Any,1}, ::Bool, ::Char, ::Bool, ::Int64, ::Array{Int64,1}, ::Bool, ::Symbol, ::Bool, ::Bool, ::DataFrames.#readtable, ::String\u001b[1m)\u001b[22m\u001b[22m at \u001b[1mC:\\Users\\utilisateur\\.julia\\v0.6\\DataFrames\\src\\deprecated.jl:1045\u001b[22m\u001b[22m\n",
      " [3] \u001b[1m(::DataFrames.#kw##readtable)\u001b[22m\u001b[22m\u001b[1m(\u001b[22m\u001b[22m::Array{Any,1}, ::DataFrames.#readtable, ::String\u001b[1m)\u001b[22m\u001b[22m at \u001b[1m.\\<missing>:0\u001b[22m\u001b[22m\n",
      " [4] \u001b[1minclude_string\u001b[22m\u001b[22m\u001b[1m(\u001b[22m\u001b[22m::String, ::String\u001b[1m)\u001b[22m\u001b[22m at \u001b[1m.\\loading.jl:522\u001b[22m\u001b[22m\n",
      " [5] \u001b[1minclude_string\u001b[22m\u001b[22m\u001b[1m(\u001b[22m\u001b[22m::Module, ::String, ::String\u001b[1m)\u001b[22m\u001b[22m at \u001b[1mC:\\Users\\utilisateur\\.julia\\v0.6\\Compat\\src\\Compat.jl:88\u001b[22m\u001b[22m\n",
      " [6] \u001b[1mexecute_request\u001b[22m\u001b[22m\u001b[1m(\u001b[22m\u001b[22m::ZMQ.Socket, ::IJulia.Msg\u001b[1m)\u001b[22m\u001b[22m at \u001b[1mC:\\Users\\utilisateur\\.julia\\v0.6\\IJulia\\src\\execute_request.jl:180\u001b[22m\u001b[22m\n",
      " [7] \u001b[1m(::Compat.#inner#14{Array{Any,1},IJulia.#execute_request,Tuple{ZMQ.Socket,IJulia.Msg}})\u001b[22m\u001b[22m\u001b[1m(\u001b[22m\u001b[22m\u001b[1m)\u001b[22m\u001b[22m at \u001b[1mC:\\Users\\utilisateur\\.julia\\v0.6\\Compat\\src\\Compat.jl:332\u001b[22m\u001b[22m\n",
      " [8] \u001b[1meventloop\u001b[22m\u001b[22m\u001b[1m(\u001b[22m\u001b[22m::ZMQ.Socket\u001b[1m)\u001b[22m\u001b[22m at \u001b[1mC:\\Users\\utilisateur\\.julia\\v0.6\\IJulia\\src\\eventloop.jl:8\u001b[22m\u001b[22m\n",
      " [9] \u001b[1m(::IJulia.##15#18)\u001b[22m\u001b[22m\u001b[1m(\u001b[22m\u001b[22m\u001b[1m)\u001b[22m\u001b[22m at \u001b[1m.\\task.jl:335\u001b[22m\u001b[22m\n",
      "while loading In[2], in expression starting on line 1\n"
     ]
    }
   ],
   "source": [
    "df = readtable(\"communities-and-crime.csv\",header=false)\n",
    "X = Matrix(df[1:end - 1])\n",
    "y = df[end];"
   ]
  },
  {
   "cell_type": "code",
   "execution_count": 3,
   "metadata": {},
   "outputs": [],
   "source": [
    "# Split into training, validation and test sets (50%/25%/25%)\n",
    "n = length(y)\n",
    "val_start = round(Int, 0.50 * n)\n",
    "test_start = round(Int, 0.75 * n)\n",
    "train_X = X[1:val_start - 1, :]\n",
    "train_y = y[1:val_start - 1]\n",
    "val_X = X[val_start:test_start - 1, :]\n",
    "val_y = y[val_start:test_start - 1]\n",
    "test_X = X[test_start:end, :]\n",
    "test_y = y[test_start:end];"
   ]
  },
  {
   "cell_type": "code",
   "execution_count": 4,
   "metadata": {},
   "outputs": [
    {
     "name": "stdout",
     "output_type": "stream",
     "text": [
      "Size of training set:(60, 122)(60,)\n",
      "Size of validation set:(31, 122)(31,)\n",
      "Size of test set:(31, 122)(31,)\n"
     ]
    }
   ],
   "source": [
    "#See the size of training set and test set\n",
    "println(\"Size of training set:\",size(train_X),size(train_y))\n",
    "println(\"Size of validation set:\",size(val_X),size(val_y))\n",
    "println(\"Size of test set:\",size(test_X),size(test_y))"
   ]
  },
  {
   "cell_type": "code",
   "execution_count": 5,
   "metadata": {},
   "outputs": [
    {
     "data": {
      "text/plain": [
       "ridgelinear (generic function with 1 method)"
      ]
     },
     "execution_count": 5,
     "metadata": {},
     "output_type": "execute_result"
    }
   ],
   "source": [
    "# write the training functions for different types of linear regressions\n",
    "\n",
    "##### standard linear regression #####\n",
    "function standardlinear(X, y)\n",
    "    # OutputFlag=0 to hide output from solver\n",
    "    m = Model(solver=GurobiSolver(OutputFlag=0))    \n",
    "    p = size(X, 2) #nb of columns\n",
    "\n",
    "    #variables    \n",
    "    @variable(m, t)\n",
    "    @variable(m, β[1:p])\n",
    "    \n",
    "    # Constraints\n",
    "    @constraint(m, norm(y - X * β) <= t)\n",
    "    \n",
    "    # Objective\n",
    "    @objective(m, Min, t)\n",
    "\n",
    "    solve(m)\n",
    "    return getvalue(β)\n",
    "end\n",
    "\n",
    "##### lasso linear regression #####\n",
    "function lassolinear(X, y, ρ)\n",
    "    # OutputFlag=0 to hide output from solver\n",
    "    m = Model(solver=GurobiSolver(OutputFlag=0))\n",
    "    \n",
    "    p = size(X, 2) #nb of columns\n",
    "\n",
    "   \n",
    "    \n",
    "    #variables    \n",
    "    @variable(m, t)\n",
    "    @variable(m, β[1:p])\n",
    "    @variable(m, a[1:p])\n",
    "    \n",
    "    # Constraints\n",
    "    @constraint(m, norm(y - X * β) <= t)\n",
    "    @constraint(m, -a[1:p] .<= β[1:p])\n",
    "    @constraint(m, β[1:p] .<= a[1:p])\n",
    "    @constraint(m, a[1:p] .>= 0)\n",
    "    \n",
    "\n",
    "    # Objective\n",
    "    @objective(m, Min, t + ρ * sum(a[j] for j = 1:p))\n",
    "\n",
    "    solve(m)\n",
    "\n",
    "    return getvalue(β)\n",
    "end\n",
    "\n",
    "function lassolinear(X, y, ρ)\n",
    "    # OutputFlag=0 to hide output from solver\n",
    "    m = Model(solver=GurobiSolver(OutputFlag=0))\n",
    "    \n",
    "    p = size(X, 2) #nb of columns\n",
    "\n",
    "   \n",
    "    \n",
    "    #variables    \n",
    "    @variable(m, t)\n",
    "    @variable(m, β[1:p])\n",
    "    @variable(m, a[1:p])\n",
    "    \n",
    "    # Constraints\n",
    "    @constraint(m, norm(y - X * β) <= t)\n",
    "    @constraint(m, -a[1:p] .<= β[1:p])\n",
    "    @constraint(m, β[1:p] .<= a[1:p])\n",
    "    @constraint(m, a[1:p] .>= 0)\n",
    "    \n",
    "\n",
    "    # Objective\n",
    "    @objective(m, Min, t + ρ * sum(a[j] for j = 1:p))\n",
    "\n",
    "    solve(m)\n",
    "\n",
    "    return getvalue(β)\n",
    "end\n",
    "\n",
    "##### ridge linear regression #####\n",
    "function ridgelinear(X, y, ρ)\n",
    "    # OutputFlag=0 to hide output from solver\n",
    "    m = Model(solver=GurobiSolver(OutputFlag=0))\n",
    "    p = size(X, 2) #nb of columns\n",
    "\n",
    "    # Variables\n",
    "    @variable(m, t)\n",
    "    @variable(m, u)\n",
    "    @variable(m, β[1:p])\n",
    "    \n",
    "    # Constraints\n",
    "    @constraint(m, norm(y - X * β) <= t)\n",
    "    @constraint(m, norm(β) <= u)\n",
    "\n",
    "    # Objective\n",
    "    @objective(m, Min, t + ρ * u)\n",
    "\n",
    "    solve(m)\n",
    "\n",
    "    return getvalue(β)\n",
    "end"
   ]
  },
  {
   "cell_type": "code",
   "execution_count": 6,
   "metadata": {},
   "outputs": [
    {
     "data": {
      "text/plain": [
       "findBestRho (generic function with 1 method)"
      ]
     },
     "execution_count": 6,
     "metadata": {},
     "output_type": "execute_result"
    }
   ],
   "source": [
    "function findBestRho(train_X,\n",
    "                    train_y,\n",
    "                    val_X,\n",
    "                    val_y, \n",
    "                    rho_list)\n",
    "    p = size(train_X, 2)\n",
    "    k = length(rho_list)\n",
    "    #instantiate arrays\n",
    "    β_lasso_list = zeros(k, p)\n",
    "    β_ridge_list = zeros(k, p)\n",
    "    lasso_scores = zeros(k)\n",
    "    ridge_scores = zeros(k)\n",
    "    \n",
    "    for i in 1:length(rho_list)\n",
    "        # training on train sets for both regression methods\n",
    "        \n",
    "        β_lasso_list[i, :] = lassolinear(train_X, train_y, rho_list[i])\n",
    "        #println(\"\\nβ_lasso for rho =\", rho_list[i], β_lasso_list[i, :])\n",
    "        β_ridge_list[i, :] = ridgelinear(train_X, train_y, rho_list[i])\n",
    "        #println(\"\\nβ_ridge for rho =\", rho_list[i], β_ridge_list[i, :])\n",
    "        \n",
    "        # performance metrics on validation sets for both regression methods\n",
    "        lasso_scores[i] = norm(val_y - val_X * β_lasso_list[i, :])\n",
    "        ridge_scores[i] = norm(val_y - val_X * β_ridge_list[i, :])\n",
    "        \n",
    "        \n",
    "    end\n",
    "    #println(lasso_scores)\n",
    "    #println(ridge_scores)\n",
    "    argmin_lasso = indmin(lasso_scores)\n",
    "    argmin_ridge = indmin(ridge_scores)\n",
    "    \n",
    "    return rho_list[argmin_lasso], rho_list[argmin_ridge]\n",
    "end"
   ]
  },
  {
   "cell_type": "code",
   "execution_count": 7,
   "metadata": {},
   "outputs": [
    {
     "name": "stdout",
     "output_type": "stream",
     "text": [
      "Academic license - for non-commercial use only\r\n",
      "Academic license - for non-commercial use only\r\n",
      "Academic license - for non-commercial use only\r\n",
      "Academic license - for non-commercial use only\r\n",
      "Academic license - for non-commercial use only\r\n",
      "Academic license - for non-commercial use only\r\n",
      "Academic license - for non-commercial use only\r\n",
      "Academic license - for non-commercial use only\r\n",
      "Academic license - for non-commercial use only\r\n",
      "Academic license - for non-commercial use only\r\n",
      "Best rho for lasso: 1.0\n",
      "Best rho for ridge: 2.0\n"
     ]
    }
   ],
   "source": [
    "rho_list = [0.001, 0.01, 0.1, 1, 2]\n",
    "best_rho = findBestRho(train_X, train_y, val_X, val_y, rho_list)\n",
    "println(\"Best rho for lasso: \", best_rho[1] )\n",
    "println(\"Best rho for ridge: \", best_rho[2])"
   ]
  },
  {
   "cell_type": "code",
   "execution_count": 8,
   "metadata": {},
   "outputs": [
    {
     "name": "stdout",
     "output_type": "stream",
     "text": [
      "Academic license - for non-commercial use only\n",
      "\n",
      "Best β for standard linear regression is: [-0.0527188, 0.57872, -0.649981, -0.564125, -0.120323, -0.201748, 1.02188, 0.0263513, -0.636356, -0.885288, -0.111684, 0.393866, 0.797354, -0.0167027, 0.371823, 0.994967, -0.280043, 0.234241, 0.618182, -0.329469, 1.20287, 0.109965, -0.477511, 0.0487904, 0.0559053, 0.660927, 0.0281862, 0.51628, -0.792707, -1.08652, 1.20646, 0.661044, 0.31798, 0.00806002, -0.38317, -0.0977316, 0.197213, 0.16222, 0.151204, 0.222365, 0.386112, 0.759026, -0.23994, -1.19354, -0.71622, 0.0450472, 0.766182, 0.865574, -1.18412, -0.464879, -0.853547, -0.232746, -0.251155, 0.0510877, -0.0455335, 0.577966, 0.0274876, -1.20301, -0.403138, 0.998665, 0.738847, 1.37342, 0.421307, 0.130119, -0.540267, 1.15078, -0.233275, -0.446227, -0.502373, 0.855415, -0.140365, -0.683184, -0.507078, 0.186683, 0.129039, -0.525952, -0.792916, 0.280602, -0.033614, -1.34664, -0.0466065, 0.606263, -1.24193, -0.279984, 0.81491, 0.103892, -0.510585, -0.120731, 0.548593, 0.626101, -0.153423, 0.210207, 0.424231, 1.71205, -1.64007, 0.567523, 0.888169, -1.1854, -1.3182, -0.103848, -0.161441, -0.321818, 0.18046, 0.0, -0.603872, 0.361623, 0.519743, 1.35582, -0.274985, -0.28024, -1.79978, -0.0207462, 0.101271, -0.239687, -0.272179, -0.317739, 0.581075, 0.274234, -0.0256122, -0.032865, 0.251143, 0.166544]\n",
      "Academic license - for non-commercial use only\n",
      "\n",
      "Best β for lasso is: [4.01425e-10, 1.11734e-9, 0.113693, -1.49524e-10, 5.02483e-10, 3.84554e-10, 7.73213e-10, 1.00448e-9, 5.6085e-10, 2.43078e-10, 4.24719e-10, 0.0246489, 5.04567e-10, 6.78874e-10, 2.77552e-10, 5.45343e-10, 3.06558e-10, 0.192666, 1.92222e-10, 5.19826e-10, 5.52122e-10, 8.41795e-10, 5.25271e-10, 4.51622e-10, 5.8942e-10, 3.80329e-10, 5.89111e-10, 5.80149e-10, 1.22634e-9, 5.20845e-10, 7.45958e-10, 6.72105e-10, 1.97089e-6, 4.20597e-10, 1.45024e-10, 2.05957e-9, 2.68848e-10, 7.73343e-10, 8.88697e-10, 3.23608e-7, 1.3029e-9, 1.23482e-9, 3.21476e-9, -3.35969e-11, -4.14832e-13, 8.03769e-11, -6.10164e-11, 5.23599e-10, 3.76416e-10, 8.23385e-10, 0.401376, 3.28252e-10, 1.37571e-9, 2.2926e-9, 5.37727e-9, 6.61514e-9, 1.33993e-9, 1.44146e-9, 1.5549e-9, 1.39828e-9, 5.38261e-10, 6.57624e-10, 2.90309e-9, 1.26043e-9, 1.03111e-9, 2.97733e-9, 8.5972e-10, 1.60778e-10, 9.16622e-10, 1.87878e-9, 3.16807e-10, 6.51018e-10, 5.72221e-10, 1.73563e-10, 0.0672751, 7.93284e-10, -2.34223e-10, 9.6082e-10, 1.68372e-9, 6.87446e-10, 7.30169e-10, 8.0997e-10, 5.57811e-10, 9.06186e-10, 1.23292e-9, 9.40487e-10, 1.32271e-9, 1.1049e-9, 3.08024e-9, 8.23787e-10, 6.11714e-10, 9.56861e-10, 4.2307e-10, 9.03359e-10, 1.27946e-9, 6.34316e-10, 3.05067e-10, 7.2799e-10, 1.54192e-9, 8.66694e-10, 2.16414e-10, 5.32812e-10, 5.01206e-10, 7.2799e-10, 2.84305e-10, -2.90354e-11, 4.51842e-8, 1.88758e-10, 4.85446e-11, 5.92382e-9, 1.97186e-10, 1.18799e-9, 1.88706e-9, 3.54522e-11, 0.00494525, 1.25323e-7, 3.54845e-10, 2.03642e-10, 1.00817e-9, 9.44617e-10, 4.92779e-10, 4.8767e-10]\n",
      "Academic license - for non-commercial use only\n",
      "\n",
      "Best β for ridge is: [-0.00179024, 0.0210995, 0.0604243, -0.0444612, 0.00730347, -0.0103841, 0.021318, 0.0120572, 0.00861987, -0.00625892, -0.00071184, 0.0171033, -0.0073181, 0.000453718, 0.0086053, -0.0290851, -0.000752137, 0.0621785, -0.00377495, -0.00961731, -0.00924996, 0.00143777, 0.00513625, 0.00259165, 0.0126473, -0.00421982, -0.00105424, 0.00191188, 0.0266876, 0.00436946, 0.0140701, -0.00552895, 0.0504918, -0.00253214, -0.022885, 0.0230556, -0.00213958, 0.000127718, 0.0266348, 0.0308286, 0.0274537, 0.0293031, 0.0313558, -0.0397438, -0.0399155, -0.0426891, -0.0363046, 0.0209062, 0.0105985, 0.0153412, 0.0508595, 0.00181445, 0.00899175, 0.016794, 0.0245379, 0.0258113, -0.00621516, -0.00200901, 0.00258698, 0.00312103, 0.0179657, -0.0019436, 0.036574, 0.0258852, 0.0175554, 0.031703, 0.0137132, -0.0113492, 0.0156806, 0.0194562, -0.00200627, 0.0101063, -0.00863761, -0.01081, 0.0630721, -0.000481633, -0.0242943, 0.0288456, 0.0160439, -0.00848919, -0.00800247, -0.00474629, -0.00994586, 0.0033445, 0.00431782, 0.00324316, 0.0105073, 0.00630826, 0.0219826, 0.0319152, 0.0260859, -0.00535281, 0.0162316, 0.00838559, 0.0150737, 0.0115276, 0.0030069, 0.017645, 0.0123027, 0.0190922, -0.000399876, 0.0174587, 0.0258919, 0.017645, -0.0260469, -0.017494, 0.0510899, -0.0035923, 0.00406581, 0.041806, -0.00456649, 0.0236424, 0.0301581, -0.00895811, 0.0283926, 0.0139855, 0.00142679, -0.0041382, 0.0131051, 0.019255, -0.00452269, 0.00758123]\n"
     ]
    }
   ],
   "source": [
    "# retrain the whole model with training and validation sets together\n",
    "\n",
    "new_train_X = vcat(train_X, val_X)\n",
    "new_train_y = vcat(train_y, val_y)\n",
    "\n",
    "# find best beta for standard linear regression\n",
    "β_standard = standardlinear(new_train_X, new_train_y)\n",
    "println(\"\\nBest β for standard linear regression is: \", β_standard)\n",
    "\n",
    "# find best beta for lasso\n",
    "\n",
    "ρ_lasso = best_rho[1]\n",
    "β_lasso = lassolinear(new_train_X, new_train_y, ρ_lasso)\n",
    "println(\"\\nBest β for lasso is: \", β_lasso)\n",
    "\n",
    "# find best beta for ridge\n",
    "\n",
    "ρ_ridge = best_rho[2]\n",
    "β_ridge = ridgelinear(new_train_X, new_train_y, ρ_ridge)\n",
    "println(\"\\nBest β for ridge is: \", β_ridge)"
   ]
  },
  {
   "cell_type": "code",
   "execution_count": 9,
   "metadata": {},
   "outputs": [
    {
     "name": "stdout",
     "output_type": "stream",
     "text": [
      "Standard linear regression score: 2.5479228082978107\n",
      "Lasso score: 0.7833980234161126\n",
      "Ridge score: 0.750864457615523\n",
      "Baseline score: 1.4589372704759014\n",
      "\n",
      "Relative gap standard linear regression % baseline: -74.64238249713678 %\n",
      "Relative gap lasso % baseline: 46.30351562952598 %\n",
      "Relative gap ridge % baseline: 48.533465227700084 %\n"
     ]
    }
   ],
   "source": [
    "# score standard linear regression\n",
    "score_standard = norm(test_y - test_X * β_standard)\n",
    "println(\"Standard linear regression score: \", score_standard)\n",
    "\n",
    "# score lasso\n",
    "score_lasso = norm(test_y - test_X * β_lasso)\n",
    "println(\"Lasso score: \", score_lasso)\n",
    "\n",
    "# score ridge\n",
    "score_ridge = norm(test_y - test_X * β_ridge)\n",
    "println(\"Ridge score: \", score_ridge)\n",
    "\n",
    "# baseline\n",
    "train_y_mean = mean(new_train_y) #use mean on training and validation sets\n",
    "score_baseline = norm(test_y - train_y_mean)\n",
    "println(\"Baseline score: \", score_baseline)\n",
    "\n",
    "# compare scores of regression with the baseline model\n",
    "println(\"\\nRelative gap standard linear regression % baseline: \", (score_baseline - score_standard)*100/score_baseline, \" %\" )\n",
    "println(\"Relative gap lasso % baseline: \", (score_baseline - score_lasso)*100/score_baseline, \" %\" )\n",
    "println(\"Relative gap ridge % baseline: \", (score_baseline - score_ridge)*100/score_baseline, \" %\" )"
   ]
  }
 ],
 "metadata": {
  "kernelspec": {
   "display_name": "Julia 0.6.4",
   "language": "julia",
   "name": "julia-0.6"
  },
  "language_info": {
   "file_extension": ".jl",
   "mimetype": "application/julia",
   "name": "julia",
   "version": "0.6.4"
  }
 },
 "nbformat": 4,
 "nbformat_minor": 2
}
