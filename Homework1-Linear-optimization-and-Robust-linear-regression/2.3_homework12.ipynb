{
 "cells": [
  {
   "cell_type": "code",
   "execution_count": 1,
   "metadata": {},
   "outputs": [],
   "source": [
    "using JuMP, Gurobi, DataFrames"
   ]
  },
  {
   "cell_type": "code",
   "execution_count": 2,
   "metadata": {},
   "outputs": [
    {
     "name": "stderr",
     "output_type": "stream",
     "text": [
      "\u001b[1m\u001b[33mWARNING: \u001b[39m\u001b[22m\u001b[33mreadtable is deprecated, use CSV.read from the CSV package instead\u001b[39m\n",
      "Stacktrace:\n",
      " [1] \u001b[1mdepwarn\u001b[22m\u001b[22m\u001b[1m(\u001b[22m\u001b[22m::String, ::Symbol\u001b[1m)\u001b[22m\u001b[22m at \u001b[1m.\\deprecated.jl:70\u001b[22m\u001b[22m\n",
      " [2] \u001b[1m#readtable#232\u001b[22m\u001b[22m\u001b[1m(\u001b[22m\u001b[22m::Bool, ::Char, ::Array{Char,1}, ::Char, ::Array{String,1}, ::Array{String,1}, ::Array{String,1}, ::Bool, ::Int64, ::Array{Symbol,1}, ::Array{Any,1}, ::Bool, ::Char, ::Bool, ::Int64, ::Array{Int64,1}, ::Bool, ::Symbol, ::Bool, ::Bool, ::DataFrames.#readtable, ::String\u001b[1m)\u001b[22m\u001b[22m at \u001b[1mC:\\Users\\utilisateur\\.julia\\v0.6\\DataFrames\\src\\deprecated.jl:1045\u001b[22m\u001b[22m\n",
      " [3] \u001b[1m(::DataFrames.#kw##readtable)\u001b[22m\u001b[22m\u001b[1m(\u001b[22m\u001b[22m::Array{Any,1}, ::DataFrames.#readtable, ::String\u001b[1m)\u001b[22m\u001b[22m at \u001b[1m.\\<missing>:0\u001b[22m\u001b[22m\n",
      " [4] \u001b[1minclude_string\u001b[22m\u001b[22m\u001b[1m(\u001b[22m\u001b[22m::String, ::String\u001b[1m)\u001b[22m\u001b[22m at \u001b[1m.\\loading.jl:522\u001b[22m\u001b[22m\n",
      " [5] \u001b[1minclude_string\u001b[22m\u001b[22m\u001b[1m(\u001b[22m\u001b[22m::Module, ::String, ::String\u001b[1m)\u001b[22m\u001b[22m at \u001b[1mC:\\Users\\utilisateur\\.julia\\v0.6\\Compat\\src\\Compat.jl:88\u001b[22m\u001b[22m\n",
      " [6] \u001b[1mexecute_request\u001b[22m\u001b[22m\u001b[1m(\u001b[22m\u001b[22m::ZMQ.Socket, ::IJulia.Msg\u001b[1m)\u001b[22m\u001b[22m at \u001b[1mC:\\Users\\utilisateur\\.julia\\v0.6\\IJulia\\src\\execute_request.jl:180\u001b[22m\u001b[22m\n",
      " [7] \u001b[1m(::Compat.#inner#14{Array{Any,1},IJulia.#execute_request,Tuple{ZMQ.Socket,IJulia.Msg}})\u001b[22m\u001b[22m\u001b[1m(\u001b[22m\u001b[22m\u001b[1m)\u001b[22m\u001b[22m at \u001b[1mC:\\Users\\utilisateur\\.julia\\v0.6\\Compat\\src\\Compat.jl:332\u001b[22m\u001b[22m\n",
      " [8] \u001b[1meventloop\u001b[22m\u001b[22m\u001b[1m(\u001b[22m\u001b[22m::ZMQ.Socket\u001b[1m)\u001b[22m\u001b[22m at \u001b[1mC:\\Users\\utilisateur\\.julia\\v0.6\\IJulia\\src\\eventloop.jl:8\u001b[22m\u001b[22m\n",
      " [9] \u001b[1m(::IJulia.##15#18)\u001b[22m\u001b[22m\u001b[1m(\u001b[22m\u001b[22m\u001b[1m)\u001b[22m\u001b[22m at \u001b[1m.\\task.jl:335\u001b[22m\u001b[22m\n",
      "while loading In[2], in expression starting on line 1\n"
     ]
    }
   ],
   "source": [
    "df = readtable(\"housing.csv\",header=false)\n",
    "X = Matrix(df[1:end - 1])\n",
    "y = df[end];"
   ]
  },
  {
   "cell_type": "code",
   "execution_count": 3,
   "metadata": {},
   "outputs": [],
   "source": [
    "# Split into training, test sets (75%/25%)\n",
    "n = length(y)\n",
    "test_start = round(Int, 0.75 * n)\n",
    "train_X = X[1:test_start - 1, :]\n",
    "train_y = y[1:test_start - 1]\n",
    "test_X = X[test_start:end, :]\n",
    "test_y = y[test_start:end];"
   ]
  },
  {
   "cell_type": "code",
   "execution_count": 4,
   "metadata": {},
   "outputs": [
    {
     "name": "stdout",
     "output_type": "stream",
     "text": [
      "Size of training set:(379, 13)(379,)\n",
      "Size of test set:(127, 13)(127,)\n"
     ]
    }
   ],
   "source": [
    "#See the size of training set and test set\n",
    "println(\"Size of training set:\",size(train_X),size(train_y))\n",
    "println(\"Size of test set:\",size(test_X),size(test_y))"
   ]
  },
  {
   "cell_type": "code",
   "execution_count": 5,
   "metadata": {},
   "outputs": [
    {
     "data": {
      "text/plain": [
       "p2linear (generic function with 1 method)"
      ]
     },
     "execution_count": 5,
     "metadata": {},
     "output_type": "execute_result"
    }
   ],
   "source": [
    "function p2linear(X, y)\n",
    "    # OutputFlag=0 to hide output from solver\n",
    "    m = Model(solver=GurobiSolver(OutputFlag=0))\n",
    "    \n",
    "    p = size(X, 2) #nb of columns\n",
    "\n",
    "    # Variables\n",
    "    @variable(m, t)\n",
    "    @variable(m, β[1:p])\n",
    "    \n",
    "    # Constraints\n",
    "    @constraint(m, norm(y - X * β) <= t)\n",
    "\n",
    "    # Objective\n",
    "    @objective(m, Min, t)\n",
    "\n",
    "    solve(m)\n",
    "\n",
    "    return getvalue(β)\n",
    "end\n",
    "#β\n",
    "#how to write beta:\\beta+tab"
   ]
  },
  {
   "cell_type": "code",
   "execution_count": 6,
   "metadata": {},
   "outputs": [
    {
     "name": "stdout",
     "output_type": "stream",
     "text": [
      "Academic license - for non-commercial use only\r\n"
     ]
    },
    {
     "data": {
      "text/plain": [
       "13-element Array{Float64,1}:\n",
       " -0.182837  \n",
       "  0.0463545 \n",
       "  0.0566232 \n",
       "  0.814289  \n",
       " -5.54437   \n",
       "  6.49243   \n",
       " -0.00690827\n",
       " -1.03113   \n",
       "  0.541436  \n",
       " -0.0123992 \n",
       " -0.524355  \n",
       "  0.0130461 \n",
       " -0.394916  "
      ]
     },
     "execution_count": 6,
     "metadata": {},
     "output_type": "execute_result"
    }
   ],
   "source": [
    "β_linear = p2linear(train_X, train_y)"
   ]
  },
  {
   "cell_type": "code",
   "execution_count": 7,
   "metadata": {},
   "outputs": [
    {
     "name": "stdout",
     "output_type": "stream",
     "text": [
      "Linear regression score: 91.31777137966286\n",
      "Baseline score: 129.2265350398843\n"
     ]
    }
   ],
   "source": [
    "# Regular\n",
    "score_regular = norm(test_y - test_X * β_linear)\n",
    "println(\"Linear regression score: \",score_regular)\n",
    "# baseline\n",
    "train_y_mean = mean(train_y)\n",
    "score_baseline = norm(test_y - train_y_mean)\n",
    "println(\"Baseline score: \",score_baseline)"
   ]
  },
  {
   "cell_type": "code",
   "execution_count": null,
   "metadata": {},
   "outputs": [],
   "source": []
  }
 ],
 "metadata": {
  "kernelspec": {
   "display_name": "Julia 0.6.4",
   "language": "julia",
   "name": "julia-0.6"
  },
  "language_info": {
   "file_extension": ".jl",
   "mimetype": "application/julia",
   "name": "julia",
   "version": "0.6.4"
  }
 },
 "nbformat": 4,
 "nbformat_minor": 2
}
